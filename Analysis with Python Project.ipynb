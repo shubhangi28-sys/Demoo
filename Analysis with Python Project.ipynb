{
  "nbformat": 4,
  "nbformat_minor": 0,
  "metadata": {
    "colab": {
      "provenance": [],
      "authorship_tag": "ABX9TyMRPfE7WDsSf7N0uAdgWHSi",
      "include_colab_link": true
    },
    "kernelspec": {
      "name": "python3",
      "display_name": "Python 3"
    },
    "language_info": {
      "name": "python"
    }
  },
  "cells": [
    {
      "cell_type": "markdown",
      "metadata": {
        "id": "view-in-github",
        "colab_type": "text"
      },
      "source": [
        "<a href=\"https://colab.research.google.com/github/shubhangi28-sys/Demoo/blob/main/Analysis%20with%20Python%20Project.ipynb\" target=\"_parent\"><img src=\"https://colab.research.google.com/assets/colab-badge.svg\" alt=\"Open In Colab\"/></a>"
      ]
    },
    {
      "cell_type": "code",
      "execution_count": null,
      "metadata": {
        "id": "6R1Z0VkZGEkn",
        "colab": {
          "base_uri": "https://localhost:8080/"
        },
        "outputId": "1dd783a6-6999-41da-c5ff-376d469993cd"
      },
      "outputs": [
        {
          "output_type": "stream",
          "name": "stdout",
          "text": [
            "Drive already mounted at /content/drive; to attempt to forcibly remount, call drive.mount(\"/content/drive\", force_remount=True).\n"
          ]
        }
      ],
      "source": [
        "#Connect colab with google drive\n",
        "from google.colab import drive\n",
        "drive.mount('/content/drive')"
      ]
    },
    {
      "cell_type": "code",
      "source": [
        "#libraries\n",
        "import pandas as pd\n",
        "import numpy as np\n",
        "import matplotlib.pyplot as plt\n",
        "import seaborn as sns\n",
        "# to ignore the warnings\n",
        "from warnings import filterwarnings\n",
        "filterwarnings('ignore')"
      ],
      "metadata": {
        "id": "KbNfJ7TvGhJ9"
      },
      "execution_count": null,
      "outputs": []
    },
    {
      "cell_type": "code",
      "source": [
        "path_file = '/content/drive/MyDrive/Python Programming/athletes new.csv'"
      ],
      "metadata": {
        "id": "0ni0KjrfI-Iy"
      },
      "execution_count": null,
      "outputs": []
    },
    {
      "cell_type": "code",
      "source": [
        "df_athletes = pd.read_csv(path_file)"
      ],
      "metadata": {
        "id": "_wUHudfvJuSz"
      },
      "execution_count": null,
      "outputs": []
    },
    {
      "cell_type": "code",
      "source": [
        "df_athletes.head()"
      ],
      "metadata": {
        "id": "fMzlmovzJ-Ic",
        "colab": {
          "base_uri": "https://localhost:8080/",
          "height": 539
        },
        "outputId": "c7e78094-00fc-4af8-98d0-0674e90c4479"
      },
      "execution_count": null,
      "outputs": [
        {
          "output_type": "execute_result",
          "data": {
            "text/plain": [
              "      code                 name       name_short              name_tv  gender  \\\n",
              "0  1535420   VALENCIA Alejandra       VALENCIA A   Alejandra VALENCIA  Female   \n",
              "1  1535429          RUIZ Angela           RUIZ A          Angela RUIZ  Female   \n",
              "2  1535430        GRANDE Matias         GRANDE M        Matias GRANDE    Male   \n",
              "3  1536460         ROJAS Carlos          ROJAS C         Carlos ROJAS    Male   \n",
              "4  1536467  MARTINEZ WING Bruno  MARTINEZ WING B  Bruno MARTINEZ WING    Male   \n",
              "\n",
              "  function country_code country country_full nationality nationality_full  \\\n",
              "0  Athlete          MEX  Mexico       Mexico      Mexico           Mexico   \n",
              "1  Athlete          MEX  Mexico       Mexico      Mexico           Mexico   \n",
              "2  Athlete          MEX  Mexico       Mexico      Mexico           Mexico   \n",
              "3  Athlete          MEX  Mexico       Mexico      Mexico           Mexico   \n",
              "4  Athlete          MEX  Mexico       Mexico      Mexico           Mexico   \n",
              "\n",
              "  nationality_code  height  weight  disciplines  \\\n",
              "0              MEX       0     0.0  ['Archery']   \n",
              "1              MEX       0     0.0  ['Archery']   \n",
              "2              MEX       0     0.0  ['Archery']   \n",
              "3              MEX       0     0.0  ['Archery']   \n",
              "4              MEX       0     0.0  ['Archery']   \n",
              "\n",
              "                                              events birth_date  \n",
              "0  [\"Women's Individual\", \"Women's Team\", 'Mixed ...   17/10/94  \n",
              "1             [\"Women's Individual\", \"Women's Team\"]   28/07/06  \n",
              "2   [\"Men's Individual\", \"Men's Team\", 'Mixed Team']   26/04/04  \n",
              "3                 [\"Men's Individual\", \"Men's Team\"]   14/01/00  \n",
              "4                 [\"Men's Individual\", \"Men's Team\"]   08/03/98  "
            ],
            "text/html": [
              "\n",
              "  <div id=\"df-600c62f3-daf7-4448-af5b-147baee7583b\" class=\"colab-df-container\">\n",
              "    <div>\n",
              "<style scoped>\n",
              "    .dataframe tbody tr th:only-of-type {\n",
              "        vertical-align: middle;\n",
              "    }\n",
              "\n",
              "    .dataframe tbody tr th {\n",
              "        vertical-align: top;\n",
              "    }\n",
              "\n",
              "    .dataframe thead th {\n",
              "        text-align: right;\n",
              "    }\n",
              "</style>\n",
              "<table border=\"1\" class=\"dataframe\">\n",
              "  <thead>\n",
              "    <tr style=\"text-align: right;\">\n",
              "      <th></th>\n",
              "      <th>code</th>\n",
              "      <th>name</th>\n",
              "      <th>name_short</th>\n",
              "      <th>name_tv</th>\n",
              "      <th>gender</th>\n",
              "      <th>function</th>\n",
              "      <th>country_code</th>\n",
              "      <th>country</th>\n",
              "      <th>country_full</th>\n",
              "      <th>nationality</th>\n",
              "      <th>nationality_full</th>\n",
              "      <th>nationality_code</th>\n",
              "      <th>height</th>\n",
              "      <th>weight</th>\n",
              "      <th>disciplines</th>\n",
              "      <th>events</th>\n",
              "      <th>birth_date</th>\n",
              "    </tr>\n",
              "  </thead>\n",
              "  <tbody>\n",
              "    <tr>\n",
              "      <th>0</th>\n",
              "      <td>1535420</td>\n",
              "      <td>VALENCIA Alejandra</td>\n",
              "      <td>VALENCIA A</td>\n",
              "      <td>Alejandra VALENCIA</td>\n",
              "      <td>Female</td>\n",
              "      <td>Athlete</td>\n",
              "      <td>MEX</td>\n",
              "      <td>Mexico</td>\n",
              "      <td>Mexico</td>\n",
              "      <td>Mexico</td>\n",
              "      <td>Mexico</td>\n",
              "      <td>MEX</td>\n",
              "      <td>0</td>\n",
              "      <td>0.0</td>\n",
              "      <td>['Archery']</td>\n",
              "      <td>[\"Women's Individual\", \"Women's Team\", 'Mixed ...</td>\n",
              "      <td>17/10/94</td>\n",
              "    </tr>\n",
              "    <tr>\n",
              "      <th>1</th>\n",
              "      <td>1535429</td>\n",
              "      <td>RUIZ Angela</td>\n",
              "      <td>RUIZ A</td>\n",
              "      <td>Angela RUIZ</td>\n",
              "      <td>Female</td>\n",
              "      <td>Athlete</td>\n",
              "      <td>MEX</td>\n",
              "      <td>Mexico</td>\n",
              "      <td>Mexico</td>\n",
              "      <td>Mexico</td>\n",
              "      <td>Mexico</td>\n",
              "      <td>MEX</td>\n",
              "      <td>0</td>\n",
              "      <td>0.0</td>\n",
              "      <td>['Archery']</td>\n",
              "      <td>[\"Women's Individual\", \"Women's Team\"]</td>\n",
              "      <td>28/07/06</td>\n",
              "    </tr>\n",
              "    <tr>\n",
              "      <th>2</th>\n",
              "      <td>1535430</td>\n",
              "      <td>GRANDE Matias</td>\n",
              "      <td>GRANDE M</td>\n",
              "      <td>Matias GRANDE</td>\n",
              "      <td>Male</td>\n",
              "      <td>Athlete</td>\n",
              "      <td>MEX</td>\n",
              "      <td>Mexico</td>\n",
              "      <td>Mexico</td>\n",
              "      <td>Mexico</td>\n",
              "      <td>Mexico</td>\n",
              "      <td>MEX</td>\n",
              "      <td>0</td>\n",
              "      <td>0.0</td>\n",
              "      <td>['Archery']</td>\n",
              "      <td>[\"Men's Individual\", \"Men's Team\", 'Mixed Team']</td>\n",
              "      <td>26/04/04</td>\n",
              "    </tr>\n",
              "    <tr>\n",
              "      <th>3</th>\n",
              "      <td>1536460</td>\n",
              "      <td>ROJAS Carlos</td>\n",
              "      <td>ROJAS C</td>\n",
              "      <td>Carlos ROJAS</td>\n",
              "      <td>Male</td>\n",
              "      <td>Athlete</td>\n",
              "      <td>MEX</td>\n",
              "      <td>Mexico</td>\n",
              "      <td>Mexico</td>\n",
              "      <td>Mexico</td>\n",
              "      <td>Mexico</td>\n",
              "      <td>MEX</td>\n",
              "      <td>0</td>\n",
              "      <td>0.0</td>\n",
              "      <td>['Archery']</td>\n",
              "      <td>[\"Men's Individual\", \"Men's Team\"]</td>\n",
              "      <td>14/01/00</td>\n",
              "    </tr>\n",
              "    <tr>\n",
              "      <th>4</th>\n",
              "      <td>1536467</td>\n",
              "      <td>MARTINEZ WING Bruno</td>\n",
              "      <td>MARTINEZ WING B</td>\n",
              "      <td>Bruno MARTINEZ WING</td>\n",
              "      <td>Male</td>\n",
              "      <td>Athlete</td>\n",
              "      <td>MEX</td>\n",
              "      <td>Mexico</td>\n",
              "      <td>Mexico</td>\n",
              "      <td>Mexico</td>\n",
              "      <td>Mexico</td>\n",
              "      <td>MEX</td>\n",
              "      <td>0</td>\n",
              "      <td>0.0</td>\n",
              "      <td>['Archery']</td>\n",
              "      <td>[\"Men's Individual\", \"Men's Team\"]</td>\n",
              "      <td>08/03/98</td>\n",
              "    </tr>\n",
              "  </tbody>\n",
              "</table>\n",
              "</div>\n",
              "    <div class=\"colab-df-buttons\">\n",
              "\n",
              "  <div class=\"colab-df-container\">\n",
              "    <button class=\"colab-df-convert\" onclick=\"convertToInteractive('df-600c62f3-daf7-4448-af5b-147baee7583b')\"\n",
              "            title=\"Convert this dataframe to an interactive table.\"\n",
              "            style=\"display:none;\">\n",
              "\n",
              "  <svg xmlns=\"http://www.w3.org/2000/svg\" height=\"24px\" viewBox=\"0 -960 960 960\">\n",
              "    <path d=\"M120-120v-720h720v720H120Zm60-500h600v-160H180v160Zm220 220h160v-160H400v160Zm0 220h160v-160H400v160ZM180-400h160v-160H180v160Zm440 0h160v-160H620v160ZM180-180h160v-160H180v160Zm440 0h160v-160H620v160Z\"/>\n",
              "  </svg>\n",
              "    </button>\n",
              "\n",
              "  <style>\n",
              "    .colab-df-container {\n",
              "      display:flex;\n",
              "      gap: 12px;\n",
              "    }\n",
              "\n",
              "    .colab-df-convert {\n",
              "      background-color: #E8F0FE;\n",
              "      border: none;\n",
              "      border-radius: 50%;\n",
              "      cursor: pointer;\n",
              "      display: none;\n",
              "      fill: #1967D2;\n",
              "      height: 32px;\n",
              "      padding: 0 0 0 0;\n",
              "      width: 32px;\n",
              "    }\n",
              "\n",
              "    .colab-df-convert:hover {\n",
              "      background-color: #E2EBFA;\n",
              "      box-shadow: 0px 1px 2px rgba(60, 64, 67, 0.3), 0px 1px 3px 1px rgba(60, 64, 67, 0.15);\n",
              "      fill: #174EA6;\n",
              "    }\n",
              "\n",
              "    .colab-df-buttons div {\n",
              "      margin-bottom: 4px;\n",
              "    }\n",
              "\n",
              "    [theme=dark] .colab-df-convert {\n",
              "      background-color: #3B4455;\n",
              "      fill: #D2E3FC;\n",
              "    }\n",
              "\n",
              "    [theme=dark] .colab-df-convert:hover {\n",
              "      background-color: #434B5C;\n",
              "      box-shadow: 0px 1px 3px 1px rgba(0, 0, 0, 0.15);\n",
              "      filter: drop-shadow(0px 1px 2px rgba(0, 0, 0, 0.3));\n",
              "      fill: #FFFFFF;\n",
              "    }\n",
              "  </style>\n",
              "\n",
              "    <script>\n",
              "      const buttonEl =\n",
              "        document.querySelector('#df-600c62f3-daf7-4448-af5b-147baee7583b button.colab-df-convert');\n",
              "      buttonEl.style.display =\n",
              "        google.colab.kernel.accessAllowed ? 'block' : 'none';\n",
              "\n",
              "      async function convertToInteractive(key) {\n",
              "        const element = document.querySelector('#df-600c62f3-daf7-4448-af5b-147baee7583b');\n",
              "        const dataTable =\n",
              "          await google.colab.kernel.invokeFunction('convertToInteractive',\n",
              "                                                    [key], {});\n",
              "        if (!dataTable) return;\n",
              "\n",
              "        const docLinkHtml = 'Like what you see? Visit the ' +\n",
              "          '<a target=\"_blank\" href=https://colab.research.google.com/notebooks/data_table.ipynb>data table notebook</a>'\n",
              "          + ' to learn more about interactive tables.';\n",
              "        element.innerHTML = '';\n",
              "        dataTable['output_type'] = 'display_data';\n",
              "        await google.colab.output.renderOutput(dataTable, element);\n",
              "        const docLink = document.createElement('div');\n",
              "        docLink.innerHTML = docLinkHtml;\n",
              "        element.appendChild(docLink);\n",
              "      }\n",
              "    </script>\n",
              "  </div>\n",
              "\n",
              "\n",
              "<div id=\"df-568cd74e-b3ac-496d-b4b1-e76b76380939\">\n",
              "  <button class=\"colab-df-quickchart\" onclick=\"quickchart('df-568cd74e-b3ac-496d-b4b1-e76b76380939')\"\n",
              "            title=\"Suggest charts\"\n",
              "            style=\"display:none;\">\n",
              "\n",
              "<svg xmlns=\"http://www.w3.org/2000/svg\" height=\"24px\"viewBox=\"0 0 24 24\"\n",
              "     width=\"24px\">\n",
              "    <g>\n",
              "        <path d=\"M19 3H5c-1.1 0-2 .9-2 2v14c0 1.1.9 2 2 2h14c1.1 0 2-.9 2-2V5c0-1.1-.9-2-2-2zM9 17H7v-7h2v7zm4 0h-2V7h2v10zm4 0h-2v-4h2v4z\"/>\n",
              "    </g>\n",
              "</svg>\n",
              "  </button>\n",
              "\n",
              "<style>\n",
              "  .colab-df-quickchart {\n",
              "      --bg-color: #E8F0FE;\n",
              "      --fill-color: #1967D2;\n",
              "      --hover-bg-color: #E2EBFA;\n",
              "      --hover-fill-color: #174EA6;\n",
              "      --disabled-fill-color: #AAA;\n",
              "      --disabled-bg-color: #DDD;\n",
              "  }\n",
              "\n",
              "  [theme=dark] .colab-df-quickchart {\n",
              "      --bg-color: #3B4455;\n",
              "      --fill-color: #D2E3FC;\n",
              "      --hover-bg-color: #434B5C;\n",
              "      --hover-fill-color: #FFFFFF;\n",
              "      --disabled-bg-color: #3B4455;\n",
              "      --disabled-fill-color: #666;\n",
              "  }\n",
              "\n",
              "  .colab-df-quickchart {\n",
              "    background-color: var(--bg-color);\n",
              "    border: none;\n",
              "    border-radius: 50%;\n",
              "    cursor: pointer;\n",
              "    display: none;\n",
              "    fill: var(--fill-color);\n",
              "    height: 32px;\n",
              "    padding: 0;\n",
              "    width: 32px;\n",
              "  }\n",
              "\n",
              "  .colab-df-quickchart:hover {\n",
              "    background-color: var(--hover-bg-color);\n",
              "    box-shadow: 0 1px 2px rgba(60, 64, 67, 0.3), 0 1px 3px 1px rgba(60, 64, 67, 0.15);\n",
              "    fill: var(--button-hover-fill-color);\n",
              "  }\n",
              "\n",
              "  .colab-df-quickchart-complete:disabled,\n",
              "  .colab-df-quickchart-complete:disabled:hover {\n",
              "    background-color: var(--disabled-bg-color);\n",
              "    fill: var(--disabled-fill-color);\n",
              "    box-shadow: none;\n",
              "  }\n",
              "\n",
              "  .colab-df-spinner {\n",
              "    border: 2px solid var(--fill-color);\n",
              "    border-color: transparent;\n",
              "    border-bottom-color: var(--fill-color);\n",
              "    animation:\n",
              "      spin 1s steps(1) infinite;\n",
              "  }\n",
              "\n",
              "  @keyframes spin {\n",
              "    0% {\n",
              "      border-color: transparent;\n",
              "      border-bottom-color: var(--fill-color);\n",
              "      border-left-color: var(--fill-color);\n",
              "    }\n",
              "    20% {\n",
              "      border-color: transparent;\n",
              "      border-left-color: var(--fill-color);\n",
              "      border-top-color: var(--fill-color);\n",
              "    }\n",
              "    30% {\n",
              "      border-color: transparent;\n",
              "      border-left-color: var(--fill-color);\n",
              "      border-top-color: var(--fill-color);\n",
              "      border-right-color: var(--fill-color);\n",
              "    }\n",
              "    40% {\n",
              "      border-color: transparent;\n",
              "      border-right-color: var(--fill-color);\n",
              "      border-top-color: var(--fill-color);\n",
              "    }\n",
              "    60% {\n",
              "      border-color: transparent;\n",
              "      border-right-color: var(--fill-color);\n",
              "    }\n",
              "    80% {\n",
              "      border-color: transparent;\n",
              "      border-right-color: var(--fill-color);\n",
              "      border-bottom-color: var(--fill-color);\n",
              "    }\n",
              "    90% {\n",
              "      border-color: transparent;\n",
              "      border-bottom-color: var(--fill-color);\n",
              "    }\n",
              "  }\n",
              "</style>\n",
              "\n",
              "  <script>\n",
              "    async function quickchart(key) {\n",
              "      const quickchartButtonEl =\n",
              "        document.querySelector('#' + key + ' button');\n",
              "      quickchartButtonEl.disabled = true;  // To prevent multiple clicks.\n",
              "      quickchartButtonEl.classList.add('colab-df-spinner');\n",
              "      try {\n",
              "        const charts = await google.colab.kernel.invokeFunction(\n",
              "            'suggestCharts', [key], {});\n",
              "      } catch (error) {\n",
              "        console.error('Error during call to suggestCharts:', error);\n",
              "      }\n",
              "      quickchartButtonEl.classList.remove('colab-df-spinner');\n",
              "      quickchartButtonEl.classList.add('colab-df-quickchart-complete');\n",
              "    }\n",
              "    (() => {\n",
              "      let quickchartButtonEl =\n",
              "        document.querySelector('#df-568cd74e-b3ac-496d-b4b1-e76b76380939 button');\n",
              "      quickchartButtonEl.style.display =\n",
              "        google.colab.kernel.accessAllowed ? 'block' : 'none';\n",
              "    })();\n",
              "  </script>\n",
              "</div>\n",
              "\n",
              "    </div>\n",
              "  </div>\n"
            ],
            "application/vnd.google.colaboratory.intrinsic+json": {
              "type": "dataframe",
              "variable_name": "df_athletes",
              "summary": "{\n  \"name\": \"df_athletes\",\n  \"rows\": 11115,\n  \"fields\": [\n    {\n      \"column\": \"code\",\n      \"properties\": {\n        \"dtype\": \"number\",\n        \"std\": 358768,\n        \"min\": 1532872,\n        \"max\": 9460001,\n        \"num_unique_values\": 11115,\n        \"samples\": [\n          1972064,\n          1953955,\n          1567360\n        ],\n        \"semantic_type\": \"\",\n        \"description\": \"\"\n      }\n    },\n    {\n      \"column\": \"name\",\n      \"properties\": {\n        \"dtype\": \"string\",\n        \"num_unique_values\": 11105,\n        \"samples\": [\n          \"MASO Alaa\",\n          \"BOLL Timo\",\n          \"VOLLERING Demi\"\n        ],\n        \"semantic_type\": \"\",\n        \"description\": \"\"\n      }\n    },\n    {\n      \"column\": \"name_short\",\n      \"properties\": {\n        \"dtype\": \"string\",\n        \"num_unique_values\": 10761,\n        \"samples\": [\n          \"BERMUDEZ F\",\n          \"TREW A\",\n          \"MATHERON V\"\n        ],\n        \"semantic_type\": \"\",\n        \"description\": \"\"\n      }\n    },\n    {\n      \"column\": \"name_tv\",\n      \"properties\": {\n        \"dtype\": \"string\",\n        \"num_unique_values\": 11104,\n        \"samples\": [\n          \"Alaa MASO\",\n          \"Timo BOLL\",\n          \"Demi VOLLERING\"\n        ],\n        \"semantic_type\": \"\",\n        \"description\": \"\"\n      }\n    },\n    {\n      \"column\": \"gender\",\n      \"properties\": {\n        \"dtype\": \"category\",\n        \"num_unique_values\": 2,\n        \"samples\": [\n          \"Male\",\n          \"Female\"\n        ],\n        \"semantic_type\": \"\",\n        \"description\": \"\"\n      }\n    },\n    {\n      \"column\": \"function\",\n      \"properties\": {\n        \"dtype\": \"category\",\n        \"num_unique_values\": 2,\n        \"samples\": [\n          \"Alternate Athlete\",\n          \"Athlete\"\n        ],\n        \"semantic_type\": \"\",\n        \"description\": \"\"\n      }\n    },\n    {\n      \"column\": \"country_code\",\n      \"properties\": {\n        \"dtype\": \"category\",\n        \"num_unique_values\": 206,\n        \"samples\": [\n          \"UZB\",\n          \"CUB\"\n        ],\n        \"semantic_type\": \"\",\n        \"description\": \"\"\n      }\n    },\n    {\n      \"column\": \"country\",\n      \"properties\": {\n        \"dtype\": \"category\",\n        \"num_unique_values\": 206,\n        \"samples\": [\n          \"Uzbekistan\",\n          \"Cuba\"\n        ],\n        \"semantic_type\": \"\",\n        \"description\": \"\"\n      }\n    },\n    {\n      \"column\": \"country_full\",\n      \"properties\": {\n        \"dtype\": \"category\",\n        \"num_unique_values\": 206,\n        \"samples\": [\n          \"Uzbekistan\",\n          \"Cuba\"\n        ],\n        \"semantic_type\": \"\",\n        \"description\": \"\"\n      }\n    },\n    {\n      \"column\": \"nationality\",\n      \"properties\": {\n        \"dtype\": \"category\",\n        \"num_unique_values\": 198,\n        \"samples\": [\n          \"Ireland\",\n          \"Kenya\"\n        ],\n        \"semantic_type\": \"\",\n        \"description\": \"\"\n      }\n    },\n    {\n      \"column\": \"nationality_full\",\n      \"properties\": {\n        \"dtype\": \"category\",\n        \"num_unique_values\": 198,\n        \"samples\": [\n          \"Ireland\",\n          \"Kenya\"\n        ],\n        \"semantic_type\": \"\",\n        \"description\": \"\"\n      }\n    },\n    {\n      \"column\": \"nationality_code\",\n      \"properties\": {\n        \"dtype\": \"category\",\n        \"num_unique_values\": 198,\n        \"samples\": [\n          \"IRL\",\n          \"KEN\"\n        ],\n        \"semantic_type\": \"\",\n        \"description\": \"\"\n      }\n    },\n    {\n      \"column\": \"height\",\n      \"properties\": {\n        \"dtype\": \"number\",\n        \"std\": 89,\n        \"min\": 0,\n        \"max\": 222,\n        \"num_unique_values\": 74,\n        \"samples\": [\n          183,\n          222\n        ],\n        \"semantic_type\": \"\",\n        \"description\": \"\"\n      }\n    },\n    {\n      \"column\": \"weight\",\n      \"properties\": {\n        \"dtype\": \"number\",\n        \"std\": 13.114770805154567,\n        \"min\": 0.0,\n        \"max\": 113.0,\n        \"num_unique_values\": 55,\n        \"samples\": [\n          81.0,\n          82.0\n        ],\n        \"semantic_type\": \"\",\n        \"description\": \"\"\n      }\n    },\n    {\n      \"column\": \"disciplines\",\n      \"properties\": {\n        \"dtype\": \"category\",\n        \"num_unique_values\": 50,\n        \"samples\": [\n          \"['Canoe Sprint']\",\n          \"['Marathon Swimming', 'Swimming']\"\n        ],\n        \"semantic_type\": \"\",\n        \"description\": \"\"\n      }\n    },\n    {\n      \"column\": \"events\",\n      \"properties\": {\n        \"dtype\": \"category\",\n        \"num_unique_values\": 639,\n        \"samples\": [\n          \"[\\\"Men's 100m\\\", \\\"Men's 200m\\\", \\\"Men's 4 x 100m Relay\\\"]\",\n          \"['10m Air Pistol Women', '10m Air Pistol Mixed Team']\"\n        ],\n        \"semantic_type\": \"\",\n        \"description\": \"\"\n      }\n    },\n    {\n      \"column\": \"birth_date\",\n      \"properties\": {\n        \"dtype\": \"object\",\n        \"num_unique_values\": 5516,\n        \"samples\": [\n          \"27/07/01\",\n          \"01/07/99\"\n        ],\n        \"semantic_type\": \"\",\n        \"description\": \"\"\n      }\n    }\n  ]\n}"
            }
          },
          "metadata": {},
          "execution_count": 20
        }
      ]
    },
    {
      "cell_type": "code",
      "source": [
        "df_athletes.info()"
      ],
      "metadata": {
        "id": "vkJMwoBCL6VO",
        "colab": {
          "base_uri": "https://localhost:8080/"
        },
        "outputId": "885bb476-f318-48fa-bcb6-85a7103ed6bc"
      },
      "execution_count": null,
      "outputs": [
        {
          "output_type": "stream",
          "name": "stdout",
          "text": [
            "<class 'pandas.core.frame.DataFrame'>\n",
            "RangeIndex: 11115 entries, 0 to 11114\n",
            "Data columns (total 17 columns):\n",
            " #   Column            Non-Null Count  Dtype  \n",
            "---  ------            --------------  -----  \n",
            " 0   code              11115 non-null  int64  \n",
            " 1   name              11115 non-null  object \n",
            " 2   name_short        11115 non-null  object \n",
            " 3   name_tv           11115 non-null  object \n",
            " 4   gender            11115 non-null  object \n",
            " 5   function          11115 non-null  object \n",
            " 6   country_code      11115 non-null  object \n",
            " 7   country           11115 non-null  object \n",
            " 8   country_full      11115 non-null  object \n",
            " 9   nationality       11115 non-null  object \n",
            " 10  nationality_full  11115 non-null  object \n",
            " 11  nationality_code  11115 non-null  object \n",
            " 12  height            11115 non-null  int64  \n",
            " 13  weight            11099 non-null  float64\n",
            " 14  disciplines       11115 non-null  object \n",
            " 15  events            11115 non-null  object \n",
            " 16  birth_date        11115 non-null  object \n",
            "dtypes: float64(1), int64(2), object(14)\n",
            "memory usage: 1.4+ MB\n"
          ]
        }
      ]
    },
    {
      "cell_type": "code",
      "source": [
        "df_athletes.shape"
      ],
      "metadata": {
        "id": "o8-PWYaBMFW4",
        "colab": {
          "base_uri": "https://localhost:8080/"
        },
        "outputId": "e0e1efbc-0814-4ae4-f798-3c089f636398"
      },
      "execution_count": null,
      "outputs": [
        {
          "output_type": "execute_result",
          "data": {
            "text/plain": [
              "(11115, 17)"
            ]
          },
          "metadata": {},
          "execution_count": 22
        }
      ]
    },
    {
      "cell_type": "code",
      "source": [
        "df_athletes.isnull().sum()"
      ],
      "metadata": {
        "id": "82p0CfHrNmjJ",
        "colab": {
          "base_uri": "https://localhost:8080/",
          "height": 617
        },
        "outputId": "afd2cd18-70ac-4191-846b-ff7a60f321d4"
      },
      "execution_count": null,
      "outputs": [
        {
          "output_type": "execute_result",
          "data": {
            "text/plain": [
              "code                 0\n",
              "name                 0\n",
              "name_short           0\n",
              "name_tv              0\n",
              "gender               0\n",
              "function             0\n",
              "country_code         0\n",
              "country              0\n",
              "country_full         0\n",
              "nationality          0\n",
              "nationality_full     0\n",
              "nationality_code     0\n",
              "height               0\n",
              "weight              16\n",
              "disciplines          0\n",
              "events               0\n",
              "birth_date           0\n",
              "dtype: int64"
            ],
            "text/html": [
              "<div>\n",
              "<style scoped>\n",
              "    .dataframe tbody tr th:only-of-type {\n",
              "        vertical-align: middle;\n",
              "    }\n",
              "\n",
              "    .dataframe tbody tr th {\n",
              "        vertical-align: top;\n",
              "    }\n",
              "\n",
              "    .dataframe thead th {\n",
              "        text-align: right;\n",
              "    }\n",
              "</style>\n",
              "<table border=\"1\" class=\"dataframe\">\n",
              "  <thead>\n",
              "    <tr style=\"text-align: right;\">\n",
              "      <th></th>\n",
              "      <th>0</th>\n",
              "    </tr>\n",
              "  </thead>\n",
              "  <tbody>\n",
              "    <tr>\n",
              "      <th>code</th>\n",
              "      <td>0</td>\n",
              "    </tr>\n",
              "    <tr>\n",
              "      <th>name</th>\n",
              "      <td>0</td>\n",
              "    </tr>\n",
              "    <tr>\n",
              "      <th>name_short</th>\n",
              "      <td>0</td>\n",
              "    </tr>\n",
              "    <tr>\n",
              "      <th>name_tv</th>\n",
              "      <td>0</td>\n",
              "    </tr>\n",
              "    <tr>\n",
              "      <th>gender</th>\n",
              "      <td>0</td>\n",
              "    </tr>\n",
              "    <tr>\n",
              "      <th>function</th>\n",
              "      <td>0</td>\n",
              "    </tr>\n",
              "    <tr>\n",
              "      <th>country_code</th>\n",
              "      <td>0</td>\n",
              "    </tr>\n",
              "    <tr>\n",
              "      <th>country</th>\n",
              "      <td>0</td>\n",
              "    </tr>\n",
              "    <tr>\n",
              "      <th>country_full</th>\n",
              "      <td>0</td>\n",
              "    </tr>\n",
              "    <tr>\n",
              "      <th>nationality</th>\n",
              "      <td>0</td>\n",
              "    </tr>\n",
              "    <tr>\n",
              "      <th>nationality_full</th>\n",
              "      <td>0</td>\n",
              "    </tr>\n",
              "    <tr>\n",
              "      <th>nationality_code</th>\n",
              "      <td>0</td>\n",
              "    </tr>\n",
              "    <tr>\n",
              "      <th>height</th>\n",
              "      <td>0</td>\n",
              "    </tr>\n",
              "    <tr>\n",
              "      <th>weight</th>\n",
              "      <td>16</td>\n",
              "    </tr>\n",
              "    <tr>\n",
              "      <th>disciplines</th>\n",
              "      <td>0</td>\n",
              "    </tr>\n",
              "    <tr>\n",
              "      <th>events</th>\n",
              "      <td>0</td>\n",
              "    </tr>\n",
              "    <tr>\n",
              "      <th>birth_date</th>\n",
              "      <td>0</td>\n",
              "    </tr>\n",
              "  </tbody>\n",
              "</table>\n",
              "</div><br><label><b>dtype:</b> int64</label>"
            ]
          },
          "metadata": {},
          "execution_count": 23
        }
      ]
    },
    {
      "cell_type": "code",
      "source": [
        "# Drop rows with missing weight values\n",
        "df_athletes_cleaned = df_athletes.dropna(subset=['weight'])"
      ],
      "metadata": {
        "id": "nB-fWtDHOTrp"
      },
      "execution_count": null,
      "outputs": []
    },
    {
      "cell_type": "code",
      "source": [
        "print(df_athletes_cleaned.shape)"
      ],
      "metadata": {
        "id": "QYQraC74OOkI",
        "colab": {
          "base_uri": "https://localhost:8080/"
        },
        "outputId": "8329e889-8317-45dd-aa61-78b2a1f3293f"
      },
      "execution_count": null,
      "outputs": [
        {
          "output_type": "stream",
          "name": "stdout",
          "text": [
            "(11099, 17)\n"
          ]
        }
      ]
    },
    {
      "cell_type": "code",
      "source": [
        "df_athletes_cleaned.isnull().sum()"
      ],
      "metadata": {
        "id": "rjTNZd5cRJLO",
        "colab": {
          "base_uri": "https://localhost:8080/",
          "height": 617
        },
        "outputId": "95e7e81f-263e-4c36-f82d-abd47ddfc738"
      },
      "execution_count": null,
      "outputs": [
        {
          "output_type": "execute_result",
          "data": {
            "text/plain": [
              "code                0\n",
              "name                0\n",
              "name_short          0\n",
              "name_tv             0\n",
              "gender              0\n",
              "function            0\n",
              "country_code        0\n",
              "country             0\n",
              "country_full        0\n",
              "nationality         0\n",
              "nationality_full    0\n",
              "nationality_code    0\n",
              "height              0\n",
              "weight              0\n",
              "disciplines         0\n",
              "events              0\n",
              "birth_date          0\n",
              "dtype: int64"
            ],
            "text/html": [
              "<div>\n",
              "<style scoped>\n",
              "    .dataframe tbody tr th:only-of-type {\n",
              "        vertical-align: middle;\n",
              "    }\n",
              "\n",
              "    .dataframe tbody tr th {\n",
              "        vertical-align: top;\n",
              "    }\n",
              "\n",
              "    .dataframe thead th {\n",
              "        text-align: right;\n",
              "    }\n",
              "</style>\n",
              "<table border=\"1\" class=\"dataframe\">\n",
              "  <thead>\n",
              "    <tr style=\"text-align: right;\">\n",
              "      <th></th>\n",
              "      <th>0</th>\n",
              "    </tr>\n",
              "  </thead>\n",
              "  <tbody>\n",
              "    <tr>\n",
              "      <th>code</th>\n",
              "      <td>0</td>\n",
              "    </tr>\n",
              "    <tr>\n",
              "      <th>name</th>\n",
              "      <td>0</td>\n",
              "    </tr>\n",
              "    <tr>\n",
              "      <th>name_short</th>\n",
              "      <td>0</td>\n",
              "    </tr>\n",
              "    <tr>\n",
              "      <th>name_tv</th>\n",
              "      <td>0</td>\n",
              "    </tr>\n",
              "    <tr>\n",
              "      <th>gender</th>\n",
              "      <td>0</td>\n",
              "    </tr>\n",
              "    <tr>\n",
              "      <th>function</th>\n",
              "      <td>0</td>\n",
              "    </tr>\n",
              "    <tr>\n",
              "      <th>country_code</th>\n",
              "      <td>0</td>\n",
              "    </tr>\n",
              "    <tr>\n",
              "      <th>country</th>\n",
              "      <td>0</td>\n",
              "    </tr>\n",
              "    <tr>\n",
              "      <th>country_full</th>\n",
              "      <td>0</td>\n",
              "    </tr>\n",
              "    <tr>\n",
              "      <th>nationality</th>\n",
              "      <td>0</td>\n",
              "    </tr>\n",
              "    <tr>\n",
              "      <th>nationality_full</th>\n",
              "      <td>0</td>\n",
              "    </tr>\n",
              "    <tr>\n",
              "      <th>nationality_code</th>\n",
              "      <td>0</td>\n",
              "    </tr>\n",
              "    <tr>\n",
              "      <th>height</th>\n",
              "      <td>0</td>\n",
              "    </tr>\n",
              "    <tr>\n",
              "      <th>weight</th>\n",
              "      <td>0</td>\n",
              "    </tr>\n",
              "    <tr>\n",
              "      <th>disciplines</th>\n",
              "      <td>0</td>\n",
              "    </tr>\n",
              "    <tr>\n",
              "      <th>events</th>\n",
              "      <td>0</td>\n",
              "    </tr>\n",
              "    <tr>\n",
              "      <th>birth_date</th>\n",
              "      <td>0</td>\n",
              "    </tr>\n",
              "  </tbody>\n",
              "</table>\n",
              "</div><br><label><b>dtype:</b> int64</label>"
            ]
          },
          "metadata": {},
          "execution_count": 26
        }
      ]
    },
    {
      "cell_type": "markdown",
      "source": [
        "# **EDA**"
      ],
      "metadata": {
        "id": "AtpPHUsKKvXl"
      }
    },
    {
      "cell_type": "code",
      "source": [
        "#Gender Distribution count\n",
        "sns.countplot(x='gender', data=df_athletes_cleaned,palette='muted')\n",
        "plt.title('Gender Distribution of Athletes')\n",
        "plt.xlabel('Gender')\n",
        "plt.ylabel('Count')\n",
        "plt.show()"
      ],
      "metadata": {
        "id": "99JOquvWRPPB",
        "colab": {
          "base_uri": "https://localhost:8080/",
          "height": 472
        },
        "outputId": "39936790-948a-4268-f449-262c913abc4d"
      },
      "execution_count": null,
      "outputs": [
        {
          "output_type": "display_data",
          "data": {
            "text/plain": [
              "<Figure size 640x480 with 1 Axes>"
            ],
            "image/png": "[encoded data removed]"
          },
          "metadata": {}
        }
      ]
    },
    {
      "cell_type": "code",
      "source": [
        "#India Players Details\n",
        "India_players = df_athletes_cleaned[df_athletes_cleaned['nationality'] == 'India']\n",
        "print(India_players)"
      ],
      "metadata": {
        "id": "wfBdvcCV3oqq",
        "colab": {
          "base_uri": "https://localhost:8080/"
        },
        "outputId": "aede87c2-5b5c-4df3-d1da-beac3443ab8c"
      },
      "execution_count": null,
      "outputs": [
        {
          "output_type": "stream",
          "name": "stdout",
          "text": [
            "          code                  name     name_short               name_tv  \\\n",
            "18     1546108    BOMMADEVARA Dhiraj  BOMMADEVARA D    Dhiraj BOMMADEVARA   \n",
            "19     1546110          RAI Tarundee          RAI T         Tarundeep RAI   \n",
            "20     1546112  JADHAV Pravin Ramesh      JADHAV PR  Pravin Ramesh JADHAV   \n",
            "21     1546132        KUMARI Deepika       KUMARI D        Deepika KUMARI   \n",
            "22     1546133           KAUR Bhajan         KAUR B           Bhajan KAUR   \n",
            "...        ...                   ...            ...                   ...   \n",
            "11020  1932160         VINESH Vinesh       VINESH V         Vinesh VINESH   \n",
            "11021  1932243           ANTIM Antim        ANTIM A           Antim ANTIM   \n",
            "11022  1932431           ANSHU Anshu        ANSHU A           Anshu ANSHU   \n",
            "11024  1932512           NISHA Nisha        NISHA N           Nisha NISHA   \n",
            "11025  1932567       REETIKA Reetika      REETIKA R       Reetika REETIKA   \n",
            "\n",
            "       gender function country_code country country_full nationality  \\\n",
            "18       Male  Athlete          IND   India        India       India   \n",
            "19       Male  Athlete          IND   India        India       India   \n",
            "20       Male  Athlete          IND   India        India       India   \n",
            "21     Female  Athlete          IND   India        India       India   \n",
            "22     Female  Athlete          IND   India        India       India   \n",
            "...       ...      ...          ...     ...          ...         ...   \n",
            "11020  Female  Athlete          IND   India        India       India   \n",
            "11021  Female  Athlete          IND   India        India       India   \n",
            "11022  Female  Athlete          IND   India        India       India   \n",
            "11024  Female  Athlete          IND   India        India       India   \n",
            "11025  Female  Athlete          IND   India        India       India   \n",
            "\n",
            "      nationality_full nationality_code  height  weight    disciplines  \\\n",
            "18               India              IND       0     0.0    ['Archery']   \n",
            "19               India              IND       0     0.0    ['Archery']   \n",
            "20               India              IND       0     0.0    ['Archery']   \n",
            "21               India              IND       0     0.0    ['Archery']   \n",
            "22               India              IND       0     0.0    ['Archery']   \n",
            "...                ...              ...     ...     ...            ...   \n",
            "11020            India              IND       0     0.0  ['Wrestling']   \n",
            "11021            India              IND       0     0.0  ['Wrestling']   \n",
            "11022            India              IND       0     0.0  ['Wrestling']   \n",
            "11024            India              IND       0     0.0  ['Wrestling']   \n",
            "11025            India              IND       0     0.0  ['Wrestling']   \n",
            "\n",
            "                                                 events birth_date  \n",
            "18     [\"Men's Individual\", \"Men's Team\", 'Mixed Team']   04/09/01  \n",
            "19                   [\"Men's Individual\", \"Men's Team\"]   22/02/84  \n",
            "20                   [\"Men's Individual\", \"Men's Team\"]   06/07/96  \n",
            "21               [\"Women's Individual\", \"Women's Team\"]   13/06/94  \n",
            "22               [\"Women's Individual\", \"Women's Team\"]   26/08/05  \n",
            "...                                                 ...        ...  \n",
            "11020                        [\"Women's Freestyle 50kg\"]   25/08/94  \n",
            "11021                        [\"Women's Freestyle 53kg\"]   31/08/04  \n",
            "11022                        [\"Women's Freestyle 57kg\"]   05/08/01  \n",
            "11024                        [\"Women's Freestyle 68kg\"]   18/10/98  \n",
            "11025                        [\"Women's Freestyle 76kg\"]   31/08/02  \n",
            "\n",
            "[112 rows x 17 columns]\n"
          ]
        }
      ]
    },
    {
      "cell_type": "code",
      "source": [
        "# Box Plot for Genderwise Height Distribution\n",
        "sns.boxplot(x='gender', y='height', data=df_athletes_cleaned, palette='bright')\n",
        "plt.title('Height Distribution by Gender')\n",
        "plt.xlabel('Gender')\n",
        "plt.ylabel('Height (cm)')\n",
        "plt.show()"
      ],
      "metadata": {
        "id": "P99qNQSZ5kKZ",
        "colab": {
          "base_uri": "https://localhost:8080/",
          "height": 472
        },
        "outputId": "60bbc107-1410-4001-e4ea-0b12b60176e4"
      },
      "execution_count": null,
      "outputs": [
        {
          "output_type": "display_data",
          "data": {
            "text/plain": [
              "<Figure size 640x480 with 1 Axes>"
            ],
            "image/png": "[encoded data removed]"
          },
          "metadata": {}
        }
      ]
    },
    {
      "cell_type": "code",
      "source": [
        "# Top 10 countries by athlete count\n",
        "top_10_countries = df_athletes_cleaned['nationality'].value_counts().head(10)\n",
        "print(top_10_countries)"
      ],
      "metadata": {
        "colab": {
          "base_uri": "https://localhost:8080/"
        },
        "id": "MstjrUoSIWxp",
        "outputId": "2d7de6c8-2b22-4d2f-8b4d-98b28b582f17"
      },
      "execution_count": null,
      "outputs": [
        {
          "output_type": "stream",
          "name": "stdout",
          "text": [
            "nationality\n",
            "United States    697\n",
            "France           606\n",
            "Australia        476\n",
            "Germany          457\n",
            "Japan            432\n",
            "Spain            400\n",
            "China            398\n",
            "Italy            397\n",
            "Great Britain    354\n",
            "Canada           335\n",
            "Name: count, dtype: int64\n"
          ]
        }
      ]
    },
    {
      "cell_type": "code",
      "source": [
        "# Top 10 countries by athlete count\n",
        "# Bar Plot\n",
        "sns.barplot(x=top_10_countries.values, y=top_10_countries.index, palette='viridis')\n",
        "plt.title('Top 10 Countries by Athlete Count')\n",
        "plt.xlabel('Number of Athletes')\n",
        "plt.ylabel('Country')\n",
        "plt.show()\n"
      ],
      "metadata": {
        "id": "9HMOrsWd8j7L",
        "colab": {
          "base_uri": "https://localhost:8080/",
          "height": 472
        },
        "outputId": "c0649a04-9911-4b1a-a9a6-c46912daea2a"
      },
      "execution_count": null,
      "outputs": [
        {
          "output_type": "display_data",
          "data": {
            "text/plain": [
              "<Figure size 640x480 with 1 Axes>"
            ],
            "image/png": "[encoded data removed]"
          },
          "metadata": {}
        }
      ]
    },
    {
      "cell_type": "code",
      "source": [
        "#Height vs. Weight Distribution\n",
        "plt.figure(figsize=(8, 6))\n",
        "sns.scatterplot(x='height', y='weight', data=df_athletes_cleaned, hue='gender',  palette='muted')\n",
        "plt.title('Height vs. Weight Distribution')\n",
        "plt.xlabel('Height (cm)')\n",
        "plt.ylabel('Weight (kg)')\n",
        "plt.legend(title='Gender')\n",
        "plt.show()\n"
      ],
      "metadata": {
        "id": "DGYVGFxI-yqG",
        "colab": {
          "base_uri": "https://localhost:8080/",
          "height": 564
        },
        "outputId": "4102dbf9-d042-44dd-d111-7469bb0afba2"
      },
      "execution_count": null,
      "outputs": [
        {
          "output_type": "display_data",
          "data": {
            "text/plain": [
              "<Figure size 800x600 with 1 Axes>"
            ],
            "image/png": "[encoded data removed]"
          },
          "metadata": {}
        }
      ]
    },
    {
      "cell_type": "code",
      "source": [],
      "metadata": {
        "id": "lfTwn3cKkrLz"
      },
      "execution_count": null,
      "outputs": []
    },
    {
      "cell_type": "code",
      "source": [],
      "metadata": {
        "id": "6AbxS5VKkrC9"
      },
      "execution_count": null,
      "outputs": []
    },
    {
      "cell_type": "code",
      "source": [],
      "metadata": {
        "id": "W0ZrFAU_kq6V"
      },
      "execution_count": null,
      "outputs": []
    },
    {
      "cell_type": "code",
      "source": [],
      "metadata": {
        "id": "A7bwGcuDkqxk"
      },
      "execution_count": null,
      "outputs": []
    },
    {
      "cell_type": "code",
      "source": [],
      "metadata": {
        "id": "IR_viSlvkqt4"
      },
      "execution_count": null,
      "outputs": []
    },
    {
      "cell_type": "code",
      "source": [],
      "metadata": {
        "id": "mAErRTm9kqp6"
      },
      "execution_count": null,
      "outputs": []
    },
    {
      "cell_type": "code",
      "source": [],
      "metadata": {
        "id": "I3y2llw2kqk-"
      },
      "execution_count": null,
      "outputs": []
    },
    {
      "cell_type": "code",
      "source": [],
      "metadata": {
        "id": "X-HeubFlkqfm"
      },
      "execution_count": null,
      "outputs": []
    },
    {
      "cell_type": "code",
      "source": [],
      "metadata": {
        "id": "8j4nqQviIjtc"
      },
      "execution_count": null,
      "outputs": []
    },
    {
      "cell_type": "code",
      "source": [],
      "metadata": {
        "id": "G2ly0ld6Ijo7"
      },
      "execution_count": null,
      "outputs": []
    },
    {
      "cell_type": "code",
      "source": [],
      "metadata": {
        "id": "L3C12N_aIjkb"
      },
      "execution_count": null,
      "outputs": []
    },
    {
      "cell_type": "code",
      "source": [],
      "metadata": {
        "id": "3N9IygxPIjaT"
      },
      "execution_count": null,
      "outputs": []
    },
    {
      "cell_type": "code",
      "source": [],
      "metadata": {
        "id": "J4_EXNPcIjSS"
      },
      "execution_count": null,
      "outputs": []
    },
    {
      "cell_type": "code",
      "source": [
        "#libraries\n",
        "from sklearn.model_selection import train_test_split\n",
        "from sklearn.preprocessing import LabelEncoder, StandardScaler\n",
        "from sklearn.linear_model import LogisticRegression\n",
        "from sklearn.metrics import accuracy_score, classification_report, confusion_matrix"
      ],
      "metadata": {
        "id": "Fr3_TIgEWzvE"
      },
      "execution_count": null,
      "outputs": []
    },
    {
      "cell_type": "code",
      "source": [
        "# Define the target column and features\n",
        "target_column = 'gender'\n",
        "X = df_athletes_cleaned.drop(columns=[target_column, 'name', 'name_short', 'name_tv', 'birth_date', 'disciplines', 'events'])\n",
        "y = df_athletes_cleaned[target_column]"
      ],
      "metadata": {
        "id": "gd9qAd-AW9zX"
      },
      "execution_count": null,
      "outputs": []
    },
    {
      "cell_type": "code",
      "source": [
        "# Encode categorical features and target variable\n",
        "encoder = LabelEncoder()\n",
        "for col in X.select_dtypes(include=['object']).columns:\n",
        "    X[col] = encoder.fit_transform(X[col])"
      ],
      "metadata": {
        "id": "xzXh2ekWXbHO"
      },
      "execution_count": null,
      "outputs": []
    },
    {
      "cell_type": "code",
      "source": [
        "y = encoder.fit_transform(y)"
      ],
      "metadata": {
        "id": "YLrdovsxXYIr"
      },
      "execution_count": null,
      "outputs": []
    },
    {
      "cell_type": "code",
      "source": [
        "# Split the dataset into training and testing sets\n",
        "X_train, X_test, y_train, y_test = train_test_split(X, y, test_size=0.2, random_state=42)"
      ],
      "metadata": {
        "id": "TOkJhhheXmdz"
      },
      "execution_count": null,
      "outputs": []
    },
    {
      "cell_type": "code",
      "source": [
        "# Scale the features\n",
        "scaler = StandardScaler()\n",
        "X_train = scaler.fit_transform(X_train)\n",
        "X_test = scaler.transform(X_test)"
      ],
      "metadata": {
        "id": "0afoDhW6X39L"
      },
      "execution_count": null,
      "outputs": []
    },
    {
      "cell_type": "code",
      "source": [
        "# Logistic Regression\n",
        "log_reg = LogisticRegression()\n",
        "log_reg.fit(X_train, y_train)\n",
        "y_pred_log_reg = log_reg.predict(X_test)"
      ],
      "metadata": {
        "id": "mXhe79Y-X8A8"
      },
      "execution_count": null,
      "outputs": []
    },
    {
      "cell_type": "code",
      "source": [
        "# Evaluate Logistic Regression\n",
        "print(\"Logistic Regression\")\n",
        "print(\"Accuracy:\", accuracy_score(y_test, y_pred_log_reg))\n",
        "print(\"Confusion Matrix:\\n\", confusion_matrix(y_test, y_pred_log_reg))\n",
        "print(\"Classification Report:\\n\", classification_report(y_test, y_pred_log_reg))"
      ],
      "metadata": {
        "id": "sFa_30IYYFGk",
        "colab": {
          "base_uri": "https://localhost:8080/"
        },
        "outputId": "9b6283de-158f-498b-f22e-1d45c42f7e86"
      },
      "execution_count": null,
      "outputs": [
        {
          "output_type": "stream",
          "name": "stdout",
          "text": [
            "Logistic Regression\n",
            "Accuracy: 0.5099099099099099\n",
            "Confusion Matrix:\n",
            " [[433 685]\n",
            " [403 699]]\n",
            "Classification Report:\n",
            "               precision    recall  f1-score   support\n",
            "\n",
            "           0       0.52      0.39      0.44      1118\n",
            "           1       0.51      0.63      0.56      1102\n",
            "\n",
            "    accuracy                           0.51      2220\n",
            "   macro avg       0.51      0.51      0.50      2220\n",
            "weighted avg       0.51      0.51      0.50      2220\n",
            "\n"
          ]
        }
      ]
    },
    {
      "cell_type": "code",
      "source": [
        "# Encode categorical features\n",
        "from sklearn.preprocessing import LabelEncoder\n",
        "from sklearn.linear_model import LinearRegression\n",
        "from sklearn.metrics import mean_squared_error, mean_absolute_error, r2_score\n",
        "encoder = LabelEncoder()\n",
        "for col in X.select_dtypes(include=['object']).columns:\n",
        "    X[col] = encoder.fit_transform(X[col])"
      ],
      "metadata": {
        "id": "IRWcPltFY2VT"
      },
      "execution_count": null,
      "outputs": []
    },
    {
      "cell_type": "code",
      "source": [
        "# Split the dataset into training and testing sets\n",
        "X_train, X_test, y_train, y_test = train_test_split(X, y, test_size=0.2, random_state=42)"
      ],
      "metadata": {
        "id": "pT6FRhHNY7Un"
      },
      "execution_count": null,
      "outputs": []
    },
    {
      "cell_type": "code",
      "source": [
        "# Linear Regression Model\n",
        "linear_reg = LinearRegression()\n",
        "linear_reg.fit(X_train, y_train)\n",
        "y_pred = linear_reg.predict(X_test)"
      ],
      "metadata": {
        "id": "qbd7XwILZBzs"
      },
      "execution_count": null,
      "outputs": []
    },
    {
      "cell_type": "code",
      "source": [
        "# Evaluate the model\n",
        "print(\"Linear Regression\")\n",
        "print(\"Mean Squared Error (MSE):\", mean_squared_error(y_test, y_pred))\n",
        "print(\"Mean Absolute Error (MAE):\", mean_absolute_error(y_test, y_pred))\n",
        "print(\"R-squared Score:\", r2_score(y_test, y_pred))"
      ],
      "metadata": {
        "id": "WBhSGz36ZRa8",
        "colab": {
          "base_uri": "https://localhost:8080/"
        },
        "outputId": "2d280e80-40c5-40c4-df9e-9ca285f4976b"
      },
      "execution_count": null,
      "outputs": [
        {
          "output_type": "stream",
          "name": "stdout",
          "text": [
            "Linear Regression\n",
            "Mean Squared Error (MSE): 0.2486055360495418\n",
            "Mean Absolute Error (MAE): 0.4967800891430366\n",
            "R-squared Score: 0.005526199018079048\n"
          ]
        }
      ]
    },
    {
      "cell_type": "code",
      "source": [
        "from sklearn.model_selection import train_test_split\n",
        "from sklearn.preprocessing import LabelEncoder, StandardScaler\n",
        "from sklearn.neighbors import KNeighborsClassifier\n",
        "from sklearn.metrics import accuracy_score, classification_report, confusion_matrix"
      ],
      "metadata": {
        "id": "WDipb_P9aAqz"
      },
      "execution_count": null,
      "outputs": []
    },
    {
      "cell_type": "code",
      "source": [
        "# KNN Classifier\n",
        "k = 5  # Number of neighbors\n",
        "knn = KNeighborsClassifier(n_neighbors=k)\n",
        "knn.fit(X_train, y_train)\n",
        "y_pred = knn.predict(X_test)"
      ],
      "metadata": {
        "id": "TPoNoCUaaIdE"
      },
      "execution_count": null,
      "outputs": []
    },
    {
      "cell_type": "code",
      "source": [
        "# Evaluate the KNN model\n",
        "print(\"K-Nearest Neighbors (KNN) Classifier\")\n",
        "print(\"Accuracy:\", accuracy_score(y_test, y_pred))\n",
        "print(\"Confusion Matrix:\\n\", confusion_matrix(y_test, y_pred))\n",
        "print(\"Classification Report:\\n\", classification_report(y_test, y_pred))"
      ],
      "metadata": {
        "id": "a2wdoah_aLPr",
        "colab": {
          "base_uri": "https://localhost:8080/"
        },
        "outputId": "4322264a-a616-4562-d97e-0e3d47a291bf"
      },
      "execution_count": null,
      "outputs": [
        {
          "output_type": "stream",
          "name": "stdout",
          "text": [
            "K-Nearest Neighbors (KNN) Classifier\n",
            "Accuracy: 0.6351351351351351\n",
            "Confusion Matrix:\n",
            " [[700 418]\n",
            " [392 710]]\n",
            "Classification Report:\n",
            "               precision    recall  f1-score   support\n",
            "\n",
            "           0       0.64      0.63      0.63      1118\n",
            "           1       0.63      0.64      0.64      1102\n",
            "\n",
            "    accuracy                           0.64      2220\n",
            "   macro avg       0.64      0.64      0.64      2220\n",
            "weighted avg       0.64      0.64      0.64      2220\n",
            "\n"
          ]
        }
      ]
    }
  ]
}